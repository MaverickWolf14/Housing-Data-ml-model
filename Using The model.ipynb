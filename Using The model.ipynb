{
    "cells": [
        {
            "cell_type": "code",
            "execution_count": 11,
            "source": [
                "from joblib import dump, load\r\n",
                "import numpy as np\r\n",
                "\r\n",
                "model = load('Main Model')\r\n",
                "features = np.array([[-5.43942006, 0.12628155, -1.6165014, -0.67288841, -1.42262747,\r\n",
                "                      -11.44443979304, -49.31238772,  7.61111401, -25.0016879, -0.5778192,\r\n",
                "                      -0.97491834,  1.41164221, -66.86091034]])\r\n",
                "model.predict(features)\r\n"
            ],
            "outputs": [
                {
                    "output_type": "execute_result",
                    "data": {
                        "text/plain": [
                            "array([24.367])"
                        ]
                    },
                    "metadata": {},
                    "execution_count": 11
                }
            ],
            "metadata": {}
        }
    ],
    "metadata": {
        "orig_nbformat": 4,
        "language_info": {
            "name": "python",
            "version": "3.9.5",
            "mimetype": "text/x-python",
            "codemirror_mode": {
                "name": "ipython",
                "version": 3
            },
            "pygments_lexer": "ipython3",
            "nbconvert_exporter": "python",
            "file_extension": ".py"
        },
        "kernelspec": {
            "name": "python3",
            "display_name": "Python 3.9.5 64-bit"
        },
        "interpreter": {
            "hash": "ac59ebe37160ed0dfa835113d9b8498d9f09ceb179beaac4002f036b9467c963"
        }
    },
    "nbformat": 4,
    "nbformat_minor": 2
}